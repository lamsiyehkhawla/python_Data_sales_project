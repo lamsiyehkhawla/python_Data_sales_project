{
 "cells": [
  {
   "cell_type": "markdown",
   "id": "d011620f-f300-4c22-a993-0b5d6759cbec",
   "metadata": {},
   "source": [
    "<H1>Step 1: Recueillir les données (Data Collection)</H1>"
   ]
  },
  {
   "cell_type": "code",
   "execution_count": 7,
   "id": "6320a171-68d3-4113-8263-7768e697ca8c",
   "metadata": {},
   "outputs": [
    {
     "name": "stdout",
     "output_type": "stream",
     "text": [
      "Colonnes du fichier : ['OrderNumber', 'OrderDate', 'Ship Date', 'Customer Name Index', 'Channel', 'Currency Code', 'Warehouse Code', 'Delivery Region Index', 'Product Description Index', 'Order Quantity', 'Unit Selling Price', 'Unit Cost']\n"
     ]
    }
   ],
   "source": [
    "import pandas as pd\n",
    "#charger le fichier Excel \n",
    "file_path= '/home/lamsiyehkhawla/Downloads/sales.xlsx'\n",
    "sales_df=pd.read_excel(file_path)\n",
    "print(\"Colonnes du fichier :\", sales_df.columns.tolist())\n",
    "\n"
   ]
  },
  {
   "cell_type": "code",
   "execution_count": 10,
   "id": "1a6eeadc-b174-4c94-a8b6-444e0bb5844a",
   "metadata": {},
   "outputs": [
    {
     "name": "stdout",
     "output_type": "stream",
     "text": [
      "    OrderNumber       Date  Ship Date  Customer      Channel Currency Code  \\\n",
      "0   SO - 000225 2017-01-01 2017-01-13        28    Wholesale           NZD   \n",
      "1  SO - 0003378 2017-01-01 2017-01-06         7  Distributor           NZD   \n",
      "2  SO - 0003901 2017-01-01 2017-01-05        12    Wholesale           NZD   \n",
      "3  SO - 0005126 2017-01-01 2017-01-17         5    Wholesale           USD   \n",
      "4  SO - 0005614 2017-01-01 2017-01-07        27       Export           NZD   \n",
      "\n",
      "  Warehouse Code  Region  Product  Order_Quantity  Unit_Selling_Price  \\\n",
      "0         AXW291      71       11               6              2499.1   \n",
      "1         AXW291      54        7              11              2351.7   \n",
      "2         AXW291      58       13               5              1728.6   \n",
      "3         AXW291      29        7               6               978.2   \n",
      "4         AXW291      31        6               7              2338.3   \n",
      "\n",
      "   Unit_cost    Sales       Cost     Profit  \n",
      "0   1824.343  14994.6  10946.058   4048.542  \n",
      "1   1269.918  25868.7  13969.098  11899.602  \n",
      "2   1019.874   8643.0   5099.370   3543.630  \n",
      "3    684.740   5869.2   4108.440   1760.760  \n",
      "4   1028.852  16368.1   7201.964   9166.136  \n"
     ]
    }
   ],
   "source": [
    "import pandas as pd\n",
    "#charger le fichier Excel \n",
    "file_path= '/home/lamsiyehkhawla/Downloads/sales.xlsx'\n",
    "sales_df=pd.read_excel(file_path)\n",
    "\n",
    "# Netooyage des colonnes\n",
    "sales_df.columns = sales_df.columns.str.strip()\n",
    "#renommer les colonnes à utiliser \n",
    "sales_df= sales_df.rename(columns={\n",
    "    'OrderDate': 'Date',\n",
    "    'Order Quantity': 'Order_Quantity',\n",
    "    'Unit Selling Price': 'Unit_Selling_Price',\n",
    "    'Unit Cost': 'Unit_cost',\n",
    "    'Customer Name Index': 'Customer',\n",
    "    'Product Description Index': 'Product',\n",
    "    'Delivery Region Index': 'Region'\n",
    "})\n",
    "# Calculer les champs nécessaires \n",
    "sales_df['Sales']=sales_df['Order_Quantity'] * sales_df['Unit_Selling_Price']\n",
    "sales_df['Cost'] = sales_df['Order_Quantity'] * sales_df['Unit_cost']\n",
    "sales_df['Profit'] = sales_df['Sales'] - sales_df['Cost']\n",
    "print(sales_df.head())"
   ]
  },
  {
   "cell_type": "markdown",
   "id": "2838277f-affb-4e5c-8ede-9d5970e4a7ca",
   "metadata": {},
   "source": [
    "<H1> Step 2: Nettoyage et transformation (ETL)</H1> \n"
   ]
  },
  {
   "cell_type": "code",
   "execution_count": 11,
   "id": "1278f6a7-0402-4608-877e-45752d9acd87",
   "metadata": {},
   "outputs": [
    {
     "name": "stdout",
     "output_type": "stream",
     "text": [
      "Valeurs manquantes par colonne :\n",
      "OrderNumber           0\n",
      "Date                  0\n",
      "Ship Date             0\n",
      "Customer              0\n",
      "Channel               0\n",
      "Currency Code         0\n",
      "Warehouse Code        0\n",
      "Region                0\n",
      "Product               0\n",
      "Order_Quantity        0\n",
      "Unit_Selling_Price    0\n",
      "Unit_cost             0\n",
      "Sales                 0\n",
      "Cost                  0\n",
      "Profit                0\n",
      "dtype: int64\n",
      "OrderNumber                   object\n",
      "Date                  datetime64[ns]\n",
      "Ship Date             datetime64[ns]\n",
      "Customer                       int64\n",
      "Channel                       object\n",
      "Currency Code                 object\n",
      "Warehouse Code                object\n",
      "Region                         int64\n",
      "Product                        int64\n",
      "Order_Quantity                 int64\n",
      "Unit_Selling_Price           float64\n",
      "Unit_cost                    float64\n",
      "Sales                        float64\n",
      "Cost                         float64\n",
      "Profit                       float64\n",
      "dtype: object\n"
     ]
    }
   ],
   "source": [
    "#Supprimer les doublons\n",
    "sales_df=sales_df.drop_duplicates()\n",
    "\n",
    "print(\"Valeurs manquantes par colonne :\")\n",
    "print(sales_df.isna().sum())\n",
    "sales_df = sales_df.dropna(subset=['Date','Sales','Profit','Cost','Order_Quantity'])\n",
    "\n",
    "sales_df['Date'] = pd.to_datetime(sales_df['Date'])\n",
    "\n",
    "print(sales_df.dtypes)"
   ]
  },
  {
   "cell_type": "markdown",
   "id": "53ce0ebd-355e-4b91-8579-1946b5f6b810",
   "metadata": {},
   "source": [
    "<H1>Step 3: Créer un DataFrame des dates</H1>"
   ]
  },
  {
   "cell_type": "code",
   "execution_count": 22,
   "id": "0f320630-eaf7-4343-aea1-1090997c8da4",
   "metadata": {},
   "outputs": [
    {
     "name": "stdout",
     "output_type": "stream",
     "text": [
      "        Date  Year  Month Month_Name  Quarter    Weekday\n",
      "0 2017-01-01  2017      1    January        1     Sunday\n",
      "1 2017-01-02  2017      1    January        1     Monday\n",
      "2 2017-01-03  2017      1    January        1    Tuesday\n",
      "3 2017-01-04  2017      1    January        1  Wednesday\n",
      "4 2017-01-05  2017      1    January        1   Thursday\n"
     ]
    }
   ],
   "source": [
    "#Extraire les dates min et max \n",
    "min_date = sales_df['Date'].min()\n",
    "max_date = sales_df['Date'].max()\n",
    "\n",
    "#Créer la table des dates \n",
    "#Genrer les ates entre la date min et max d'une maniere quotidienne \n",
    "date_range = pd.date_range(start=min_date, end=max_date,freq='D')\n",
    "#DataFrame contiendra une seule colonne 'Date' qui contient toutes les dates générées dans date_range.\n",
    "date_df = pd.DataFrame({'Date': date_range})\n",
    "#Cela extrait l'année de chaque date dans la colonne 'Date' et la place dans une nouvelle colonne 'Year'.\n",
    "date_df['Year'] = date_df['Date'].dt.year\n",
    "#ela extrait le mois (sous forme de nombre de 1 à 12) et l'ajoute dans la colonne 'Month'\n",
    "date_df['Month'] = date_df['Date'].dt.month\n",
    "#Cela extrait le nom complet du mois (par exemple, \"janvier\", \"février\") et l'ajoute dans la colonne \n",
    "date_df['Month_Name'] = date_df['Date'].dt.strftime('%B')\n",
    "#Cela détermine le trimestre de l'année (1, 2, 3 ou 4) et l'ajoute dans la colonne 'Quarter'.\n",
    "date_df['Quarter'] = date_df['Date'].dt.quarter\n",
    "#ela extrait le nom du jour de la semaine (par exemple, \"lundi\", \"mardi\") et l'ajoute dans la colonne \n",
    "date_df['Weekday'] = date_df['Date'].dt.day_name()\n",
    "\n",
    "print(date_df.head())\n"
   ]
  },
  {
   "cell_type": "markdown",
   "id": "e59b88f0-3c34-43d9-b557-fe09ba1a9077",
   "metadata": {},
   "source": [
    "<H1>Step 4: Créer les mesures et indicateurs</H1>"
   ]
  },
  {
   "cell_type": "code",
   "execution_count": 32,
   "id": "58f753e5-0c08-47b5-a320-dd9a911c7829",
   "metadata": {},
   "outputs": [
    {
     "name": "stdout",
     "output_type": "stream",
     "text": [
      "        Date  Year  Month Month_Name\n",
      "0 2017-01-01  2017      1    January\n",
      "1 2017-01-01  2017      1    January\n",
      "2 2017-01-01  2017      1    January\n",
      "3 2017-01-01  2017      1    January\n",
      "4 2017-01-01  2017      1    January\n"
     ]
    }
   ],
   "source": [
    "sales_df_copy = sales_df.copy()\n",
    "\n",
    "#Ajouter colonne annee et mois\n",
    "sales_df_copy['Year'] = sales_df_copy['Date'].dt.year\n",
    "sales_df_copy['Month'] = sales_df_copy['Date'].dt.month\n",
    "sales_df_copy['Month_Name'] = sales_df_copy['Date'].dt.strftime('%B')\n",
    "\n",
    "\n",
    "print(sales_df_copy[['Date','Year','Month','Month_Name']].head())"
   ]
  },
  {
   "cell_type": "markdown",
   "id": "b3665265-d06f-49d7-8561-17eee7018451",
   "metadata": {},
   "source": [
    "<H2>Total Sales</H2>\n",
    "\n"
   ]
  },
  {
   "cell_type": "code",
   "execution_count": 42,
   "id": "c8b3e9d3-40a6-4e34-ba28-6e3c33221035",
   "metadata": {},
   "outputs": [
    {
     "name": "stdout",
     "output_type": "stream",
     "text": [
      "Total sales : 154573140.60 MAD\n"
     ]
    }
   ],
   "source": [
    "total_sales = sales_df_copy['Sales'].sum()\n",
    "print(f\"Total sales : {total_sales:.2f} MAD\")"
   ]
  },
  {
   "cell_type": "markdown",
   "id": "edd48a9b-b963-4d98-bd08-2eb4bd9302dd",
   "metadata": {},
   "source": [
    "<h2>Total Sales PY (Previous Year)</h2>"
   ]
  },
  {
   "cell_type": "code",
   "execution_count": 44,
   "id": "9bd8b9b0-0e4f-4b8e-9330-b5d1f68f225d",
   "metadata": {},
   "outputs": [
    {
     "name": "stdout",
     "output_type": "stream",
     "text": [
      "Ventes par année\n",
      "   Year       Sales\n",
      "0  2017  52580534.7\n",
      "1  2018  53463661.7\n",
      "2  2019  48528944.2\n"
     ]
    }
   ],
   "source": [
    "# contiendra un nouveau DataFrame avec deux colonnes Year et Sales\n",
    "#Le résultat est un DataFrame propre où chaque ligne contient une année et le total des ventes pour cette année.\n",
    "sales_by_year = sales_df_copy.groupby('Year')['Sales'].sum().reset_index()\n",
    "\n",
    "print(\"Ventes par année\")\n",
    "print(sales_by_year)"
   ]
  }
 ],
 "metadata": {
  "kernelspec": {
   "display_name": "Python 3 (ipykernel)",
   "language": "python",
   "name": "python3"
  },
  "language_info": {
   "codemirror_mode": {
    "name": "ipython",
    "version": 3
   },
   "file_extension": ".py",
   "mimetype": "text/x-python",
   "name": "python",
   "nbconvert_exporter": "python",
   "pygments_lexer": "ipython3",
   "version": "3.12.7"
  }
 },
 "nbformat": 4,
 "nbformat_minor": 5
}
